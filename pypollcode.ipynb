{
 "cells": [
  {
   "cell_type": "code",
   "execution_count": 1,
   "id": "205226aa",
   "metadata": {},
   "outputs": [],
   "source": [
    "import pandas as pd \n",
    "\n",
    "filepath= \"election_data.csv\"\n",
    "df = pd.read_csv(filepath,sep = \",\")\n",
    "\n",
    "total_votes = df['Ballot ID'].count()\n",
    "candidates = df['Candidate'].unique()\n",
    "\n",
    "number_of_votes_per_candidate=df.groupby('Candidate').agg({'Ballot ID' : 'count'})\n",
    "percentage_per_candidate = (number_of_votes_per_candidate['Ballot ID'] / total_votes) * 100\n",
    "percentage_per_candidate = percentage_per_candidate.sort_values(ascending=False)\n",
    "winner = percentage_per_candidate.index[0]\n",
    "\n",
    "\n",
    "# Create a new DataFrame with the results\n",
    "results_df = pd.DataFrame({\n",
    "    'Candidate': percentage_per_candidate.index,\n",
    "    'Percentage of Votes': percentage_per_candidate.values,\n",
    "    'Total Votes': number_of_votes_per_candidate['Ballot ID'].values\n",
    "})\n",
    "\n",
    "# Sort the results by percentage of votes in descending order\n",
    "results_df = results_df.sort_values('Candidate', ascending=True)\n",
    "\n",
    "# Add a column with the formatted percentage of votes\n",
    "results_df['Percentage of Votes'] = results_df['Percentage of Votes'].map('{:.3f}%'.format)\n",
    "\n",
    "# Add a header with the total number of votes\n",
    "header = f'''\n",
    "Election Results\n",
    "-------------------------\n",
    "Total Votes: {total_votes}\n",
    "-------------------------\n",
    "'''\n",
    "\n",
    "# Add a footer with the winner\n",
    "footer = f'''\n",
    "-------------------------\n",
    "Winner: {winner}\n",
    "-------------------------\n",
    "'''\n",
    "\n",
    "# Write the results to a CSV file\n",
    "with open('election_results.csv', 'w') as f:\n",
    "    f.write(header)\n",
    "    results_df.to_csv(f, index=False)\n",
    "    f.write(footer)"
   ]
  }
 ],
 "metadata": {
  "kernelspec": {
   "display_name": "Python 3 (ipykernel)",
   "language": "python",
   "name": "python3"
  },
  "language_info": {
   "codemirror_mode": {
    "name": "ipython",
    "version": 3
   },
   "file_extension": ".py",
   "mimetype": "text/x-python",
   "name": "python",
   "nbconvert_exporter": "python",
   "pygments_lexer": "ipython3",
   "version": "3.10.11"
  }
 },
 "nbformat": 4,
 "nbformat_minor": 5
}
