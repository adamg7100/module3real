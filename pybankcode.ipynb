{
 "cells": [
  {
   "cell_type": "code",
   "execution_count": 1,
   "id": "d0273abf",
   "metadata": {},
   "outputs": [
    {
     "name": "stdout",
     "output_type": "stream",
     "text": [
      "Financial Analysis\n",
      " -----------------------\n",
      "\n",
      "Months: 86\n",
      "Total: 22564198\n",
      "Average Change: -8311.105882352942\n",
      "Greatest Increase: 1862002,Aug-16\n",
      "Greatest Decrease: -1825558,Feb-14\n"
     ]
    }
   ],
   "source": [
    "import os\n",
    "import csv\n",
    "# budget = os.path.join('.', 'Resources', 'pybudget_data.csv')\n",
    "budget = r\"pybudget_data.csv\"\n",
    "print(f'Financial Analysis\\n -----------------------\\n')\n",
    "months = 0\n",
    "total = 0\n",
    "change = 0\n",
    "previous = 0\n",
    "greatest_increase=0\n",
    "greatest_decrease=0\n",
    "greatest_increase_month=\"\"\n",
    "greatest_decrease_month=\"\"\n",
    "changelist = []\n",
    "with open(budget, 'r') as csvfile:\n",
    "\n",
    "    # Split the data on commas\n",
    "    csvreader = csv.reader(csvfile, delimiter=',')\n",
    "\n",
    "    header = next(csvreader)\n",
    "\n",
    "    # Loop through the data\n",
    "    for row in csvreader:\n",
    "        months = months+1\n",
    "        total = total+int(row[1])\n",
    "            #         print (row[1])\n",
    "        change = int(row[1]) - previous\n",
    "        previous = int(row[1])\n",
    "        changelist.append(change)\n",
    "        if change > greatest_increase:\n",
    "            greatest_increase = change\n",
    "            greatest_increase_month = row[0]\n",
    "           \n",
    "        if change < greatest_decrease:\n",
    "            greatest_decrease = change\n",
    "            greatest_decrease_month = row[0]\n",
    "            \n",
    "        \n",
    "        \n",
    "changelist.pop(0)        \n",
    "print(f'Months: {months}')\n",
    "print(f'Total: {total}')\n",
    "print(f'Average Change: {sum(changelist)/(months-1)}')\n",
    "print(f'Greatest Increase: {greatest_increase},{greatest_increase_month}')\n",
    "print(f'Greatest Decrease: {greatest_decrease},{greatest_decrease_month}')"
   ]
  }
 ],
 "metadata": {
  "kernelspec": {
   "display_name": "Python 3 (ipykernel)",
   "language": "python",
   "name": "python3"
  },
  "language_info": {
   "codemirror_mode": {
    "name": "ipython",
    "version": 3
   },
   "file_extension": ".py",
   "mimetype": "text/x-python",
   "name": "python",
   "nbconvert_exporter": "python",
   "pygments_lexer": "ipython3",
   "version": "3.10.11"
  }
 },
 "nbformat": 4,
 "nbformat_minor": 5
}
